{
 "cells": [
  {
   "cell_type": "markdown",
   "metadata": {},
   "source": [
    "# INSTITUTO NACIONAL DE ANTROPOLOGÍA E HISTORIA\n",
    "## CIUDAD DE MEXÍCO\n",
    "\n",
    "---"
   ]
  },
  {
   "cell_type": "code",
   "execution_count": 59,
   "metadata": {},
   "outputs": [],
   "source": [
    "import os\n",
    "\n",
    "import numpy as np\n",
    "import pandas as pd\n",
    "# import scipy\n",
    "# import scipy.stats\n",
    "\n",
    "#import matplotlib.pyplot as plt\n",
    "#import seaborn as sns\n",
    "\n",
    "#%matplotlib inline\n",
    "\n",
    "import calendar"
   ]
  },
  {
   "cell_type": "code",
   "execution_count": 60,
   "metadata": {},
   "outputs": [
    {
     "data": {
      "text/plain": [
       "'C:\\\\Users\\\\melen\\\\Dropbox\\\\Python\\\\Reto_Data_Science_INAH\\\\db'"
      ]
     },
     "execution_count": 60,
     "metadata": {},
     "output_type": "execute_result"
    }
   ],
   "source": [
    "# Path\n",
    "path = 'C:\\\\Users\\\\melen\\\\Dropbox\\\\Python\\\\Reto_Data_Science_INAH\\\\db'\n",
    "os.chdir(path)\n",
    "os.getcwd()"
   ]
  },
  {
   "cell_type": "code",
   "execution_count": 61,
   "metadata": {},
   "outputs": [
    {
     "data": {
      "text/html": [
       "<div>\n",
       "<style scoped>\n",
       "    .dataframe tbody tr th:only-of-type {\n",
       "        vertical-align: middle;\n",
       "    }\n",
       "\n",
       "    .dataframe tbody tr th {\n",
       "        vertical-align: top;\n",
       "    }\n",
       "\n",
       "    .dataframe thead th {\n",
       "        text-align: right;\n",
       "    }\n",
       "</style>\n",
       "<table border=\"1\" class=\"dataframe\">\n",
       "  <thead>\n",
       "    <tr style=\"text-align: right;\">\n",
       "      <th></th>\n",
       "      <th>Estado</th>\n",
       "      <th>Clave SIINAH</th>\n",
       "      <th>Siglas</th>\n",
       "      <th>Centro de trabajo</th>\n",
       "      <th>Año</th>\n",
       "      <th>Mes</th>\n",
       "      <th>Tipo de visitantes</th>\n",
       "      <th>Número de visitas</th>\n",
       "      <th>Nacionalidad</th>\n",
       "    </tr>\n",
       "  </thead>\n",
       "  <tbody>\n",
       "    <tr>\n",
       "      <th>28928</th>\n",
       "      <td>Puebla</td>\n",
       "      <td>2403400.0</td>\n",
       "      <td>M.- M.H</td>\n",
       "      <td>Museo del Valle de Tehuacán</td>\n",
       "      <td>2019</td>\n",
       "      <td>12</td>\n",
       "      <td>Trabajadores INAH</td>\n",
       "      <td>0</td>\n",
       "      <td>Nacional</td>\n",
       "    </tr>\n",
       "    <tr>\n",
       "      <th>14737</th>\n",
       "      <td>Guanajuato</td>\n",
       "      <td>2401300.0</td>\n",
       "      <td>M.- M.H</td>\n",
       "      <td>Museo Casa del Dr. José María Luis Mora</td>\n",
       "      <td>2019</td>\n",
       "      <td>3</td>\n",
       "      <td>Discapacitados</td>\n",
       "      <td>7</td>\n",
       "      <td>Nacional</td>\n",
       "    </tr>\n",
       "    <tr>\n",
       "      <th>16728</th>\n",
       "      <td>Guerrero</td>\n",
       "      <td>3120026.0</td>\n",
       "      <td>Z.A.</td>\n",
       "      <td>Z.A. de Cuetlajuchitlán (Los Querende)</td>\n",
       "      <td>2019</td>\n",
       "      <td>9</td>\n",
       "      <td>Estudiantes nivel básico</td>\n",
       "      <td>10</td>\n",
       "      <td>Nacional</td>\n",
       "    </tr>\n",
       "    <tr>\n",
       "      <th>32581</th>\n",
       "      <td>Quintana Roo</td>\n",
       "      <td>3110038.0</td>\n",
       "      <td>Z.A.</td>\n",
       "      <td>Z.A. de Xcaret</td>\n",
       "      <td>2019</td>\n",
       "      <td>5</td>\n",
       "      <td>Trabajadores INAH</td>\n",
       "      <td>0</td>\n",
       "      <td>Nacional</td>\n",
       "    </tr>\n",
       "    <tr>\n",
       "      <th>22449</th>\n",
       "      <td>Morelos</td>\n",
       "      <td>3110007.0</td>\n",
       "      <td>Z.A.</td>\n",
       "      <td>Z.A. de Chalcatzingo</td>\n",
       "      <td>2019</td>\n",
       "      <td>5</td>\n",
       "      <td>Estudiantes nivel básico</td>\n",
       "      <td>67</td>\n",
       "      <td>Nacional</td>\n",
       "    </tr>\n",
       "    <tr>\n",
       "      <th>9031</th>\n",
       "      <td>Ciudad de México</td>\n",
       "      <td>3120013.0</td>\n",
       "      <td>Z.A.</td>\n",
       "      <td>Z.A. de Cerro de la Estrella</td>\n",
       "      <td>2019</td>\n",
       "      <td>8</td>\n",
       "      <td>Entrada sin costo</td>\n",
       "      <td>0</td>\n",
       "      <td>Extranjeros</td>\n",
       "    </tr>\n",
       "    <tr>\n",
       "      <th>36360</th>\n",
       "      <td>Tlaxcala</td>\n",
       "      <td>3110105.0</td>\n",
       "      <td>Z.A.</td>\n",
       "      <td>Z.A. de Xochitécatl con museo de sitio</td>\n",
       "      <td>2019</td>\n",
       "      <td>1</td>\n",
       "      <td>Entrada sin costo</td>\n",
       "      <td>0</td>\n",
       "      <td>Nacional</td>\n",
       "    </tr>\n",
       "    <tr>\n",
       "      <th>11686</th>\n",
       "      <td>Estado de México</td>\n",
       "      <td>3110001.0</td>\n",
       "      <td>Z.A.</td>\n",
       "      <td>Z.A. de Acozac</td>\n",
       "      <td>2019</td>\n",
       "      <td>8</td>\n",
       "      <td>Boleto pagado</td>\n",
       "      <td>0</td>\n",
       "      <td>Extranjeros</td>\n",
       "    </tr>\n",
       "    <tr>\n",
       "      <th>38561</th>\n",
       "      <td>Veracruz</td>\n",
       "      <td>3220014.0</td>\n",
       "      <td>Z.A.</td>\n",
       "      <td>Z.A. de Las Limas</td>\n",
       "      <td>2019</td>\n",
       "      <td>3</td>\n",
       "      <td>Estudiantes nivel superior</td>\n",
       "      <td>0</td>\n",
       "      <td>Nacional</td>\n",
       "    </tr>\n",
       "    <tr>\n",
       "      <th>6454</th>\n",
       "      <td>Chiapas</td>\n",
       "      <td>3110044.0</td>\n",
       "      <td>Z.A.</td>\n",
       "      <td>Z.A. de Yaxchilán</td>\n",
       "      <td>2019</td>\n",
       "      <td>5</td>\n",
       "      <td>Estudiantes nivel superior</td>\n",
       "      <td>509</td>\n",
       "      <td>Nacional</td>\n",
       "    </tr>\n",
       "  </tbody>\n",
       "</table>\n",
       "</div>"
      ],
      "text/plain": [
       "                 Estado  Clave SIINAH   Siglas  \\\n",
       "28928            Puebla     2403400.0  M.- M.H   \n",
       "14737        Guanajuato     2401300.0  M.- M.H   \n",
       "16728          Guerrero     3120026.0     Z.A.   \n",
       "32581      Quintana Roo     3110038.0     Z.A.   \n",
       "22449           Morelos     3110007.0     Z.A.   \n",
       "9031   Ciudad de México     3120013.0     Z.A.   \n",
       "36360          Tlaxcala     3110105.0     Z.A.   \n",
       "11686  Estado de México     3110001.0     Z.A.   \n",
       "38561          Veracruz     3220014.0     Z.A.   \n",
       "6454            Chiapas     3110044.0     Z.A.   \n",
       "\n",
       "                             Centro de trabajo   Año  Mes  \\\n",
       "28928              Museo del Valle de Tehuacán  2019   12   \n",
       "14737  Museo Casa del Dr. José María Luis Mora  2019    3   \n",
       "16728   Z.A. de Cuetlajuchitlán (Los Querende)  2019    9   \n",
       "32581                           Z.A. de Xcaret  2019    5   \n",
       "22449                     Z.A. de Chalcatzingo  2019    5   \n",
       "9031              Z.A. de Cerro de la Estrella  2019    8   \n",
       "36360   Z.A. de Xochitécatl con museo de sitio  2019    1   \n",
       "11686                           Z.A. de Acozac  2019    8   \n",
       "38561                        Z.A. de Las Limas  2019    3   \n",
       "6454                         Z.A. de Yaxchilán  2019    5   \n",
       "\n",
       "               Tipo de visitantes Número de visitas Nacionalidad  \n",
       "28928           Trabajadores INAH                 0     Nacional  \n",
       "14737              Discapacitados                 7     Nacional  \n",
       "16728    Estudiantes nivel básico                10     Nacional  \n",
       "32581           Trabajadores INAH                 0     Nacional  \n",
       "22449    Estudiantes nivel básico                67     Nacional  \n",
       "9031            Entrada sin costo                 0  Extranjeros  \n",
       "36360           Entrada sin costo                 0     Nacional  \n",
       "11686               Boleto pagado                 0  Extranjeros  \n",
       "38561  Estudiantes nivel superior                 0     Nacional  \n",
       "6454   Estudiantes nivel superior               509     Nacional  "
      ]
     },
     "execution_count": 61,
     "metadata": {},
     "output_type": "execute_result"
    }
   ],
   "source": [
    "# Reading and load DataBase\n",
    "df = pd.read_csv('INAH-DB.csv', sep=';', encoding='latin-1')\n",
    "df.sample(10)"
   ]
  },
  {
   "cell_type": "markdown",
   "metadata": {},
   "source": [
    "### DataBase General Information"
   ]
  },
  {
   "cell_type": "markdown",
   "metadata": {},
   "source": [
    "Estado, Clave SIINAH, Centro de trabajo, Año, Mes, Tipo de visitantes, Número de visitas y Nacionalidad."
   ]
  },
  {
   "cell_type": "code",
   "execution_count": 62,
   "metadata": {},
   "outputs": [
    {
     "name": "stdout",
     "output_type": "stream",
     "text": [
      "<class 'pandas.core.frame.DataFrame'>\n",
      "RangeIndex: 42679 entries, 0 to 42678\n",
      "Data columns (total 9 columns):\n",
      " #   Column              Non-Null Count  Dtype  \n",
      "---  ------              --------------  -----  \n",
      " 0   Estado              42679 non-null  object \n",
      " 1   Clave SIINAH        42497 non-null  float64\n",
      " 2   Siglas              42679 non-null  object \n",
      " 3   Centro de trabajo   42679 non-null  object \n",
      " 4   Año                 42679 non-null  int64  \n",
      " 5   Mes                 42679 non-null  int64  \n",
      " 6   Tipo de visitantes  42679 non-null  object \n",
      " 7   Número de visitas   42679 non-null  object \n",
      " 8   Nacionalidad        42679 non-null  object \n",
      "dtypes: float64(1), int64(2), object(6)\n",
      "memory usage: 2.9+ MB\n"
     ]
    }
   ],
   "source": [
    "df.info()"
   ]
  },
  {
   "cell_type": "markdown",
   "metadata": {},
   "source": [
    "### Convert dtypes"
   ]
  },
  {
   "cell_type": "code",
   "execution_count": 63,
   "metadata": {},
   "outputs": [
    {
     "name": "stdout",
     "output_type": "stream",
     "text": [
      "<class 'pandas.core.frame.DataFrame'>\n",
      "RangeIndex: 42679 entries, 0 to 42678\n",
      "Data columns (total 9 columns):\n",
      " #   Column              Non-Null Count  Dtype \n",
      "---  ------              --------------  ----- \n",
      " 0   Estado              42679 non-null  string\n",
      " 1   Clave SIINAH        42497 non-null  Int64 \n",
      " 2   Siglas              42679 non-null  string\n",
      " 3   Centro de trabajo   42679 non-null  string\n",
      " 4   Año                 42679 non-null  Int64 \n",
      " 5   Mes                 42679 non-null  Int64 \n",
      " 6   Tipo de visitantes  42679 non-null  string\n",
      " 7   Número de visitas   42679 non-null  string\n",
      " 8   Nacionalidad        42679 non-null  string\n",
      "dtypes: Int64(3), string(6)\n",
      "memory usage: 3.1 MB\n"
     ]
    }
   ],
   "source": [
    "\n",
    "dfn = df.convert_dtypes()\n",
    "dfn.info()"
   ]
  },
  {
   "cell_type": "markdown",
   "metadata": {},
   "source": [
    "## Párametros Estadísticos"
   ]
  },
  {
   "cell_type": "markdown",
   "metadata": {},
   "source": [
    "### 1. Totales por Estado por temporalidad (Mes y Año)"
   ]
  },
  {
   "cell_type": "code",
   "execution_count": 64,
   "metadata": {},
   "outputs": [],
   "source": [
    "# Replace number month to name month\n",
    "#dfn['Mes'] = dfn['Mes'].apply(lambda x: calendar.month_name[x])"
   ]
  },
  {
   "cell_type": "code",
   "execution_count": 65,
   "metadata": {},
   "outputs": [
    {
     "name": "stdout",
     "output_type": "stream",
     "text": [
      "<class 'pandas.core.frame.DataFrame'>\n",
      "RangeIndex: 42679 entries, 0 to 42678\n",
      "Data columns (total 9 columns):\n",
      " #   Column              Non-Null Count  Dtype   \n",
      "---  ------              --------------  -----   \n",
      " 0   Estado              42679 non-null  string  \n",
      " 1   Clave SIINAH        42497 non-null  Int64   \n",
      " 2   Siglas              42679 non-null  string  \n",
      " 3   Centro de trabajo   42679 non-null  string  \n",
      " 4   Año                 42679 non-null  category\n",
      " 5   Mes                 42679 non-null  category\n",
      " 6   Tipo de visitantes  42679 non-null  string  \n",
      " 7   Número de visitas   42679 non-null  string  \n",
      " 8   Nacionalidad        42679 non-null  string  \n",
      "dtypes: Int64(1), category(2), string(6)\n",
      "memory usage: 2.4 MB\n"
     ]
    }
   ],
   "source": [
    "# Converting columns 'Año' and 'Mes' to Categorical type\n",
    "dfn['Año'] = pd.Categorical(dfn['Año'].apply(str))\n",
    "dfn['Mes'] = pd.Categorical(dfn['Mes'].apply(str))\n",
    "dfn.info()"
   ]
  },
  {
   "cell_type": "code",
   "execution_count": 69,
   "metadata": {},
   "outputs": [
    {
     "data": {
      "text/html": [
       "<div>\n",
       "<style scoped>\n",
       "    .dataframe tbody tr th:only-of-type {\n",
       "        vertical-align: middle;\n",
       "    }\n",
       "\n",
       "    .dataframe tbody tr th {\n",
       "        vertical-align: top;\n",
       "    }\n",
       "\n",
       "    .dataframe thead th {\n",
       "        text-align: right;\n",
       "    }\n",
       "</style>\n",
       "<table border=\"1\" class=\"dataframe\">\n",
       "  <thead>\n",
       "    <tr style=\"text-align: right;\">\n",
       "      <th></th>\n",
       "      <th>Clave SIINAH</th>\n",
       "    </tr>\n",
       "    <tr>\n",
       "      <th>Mes</th>\n",
       "      <th></th>\n",
       "    </tr>\n",
       "  </thead>\n",
       "  <tbody>\n",
       "    <tr>\n",
       "      <th>1</th>\n",
       "      <td>10461069866</td>\n",
       "    </tr>\n",
       "    <tr>\n",
       "      <th>10</th>\n",
       "      <td>10501629944</td>\n",
       "    </tr>\n",
       "    <tr>\n",
       "      <th>11</th>\n",
       "      <td>10501629944</td>\n",
       "    </tr>\n",
       "    <tr>\n",
       "      <th>12</th>\n",
       "      <td>10461069892</td>\n",
       "    </tr>\n",
       "    <tr>\n",
       "      <th>2</th>\n",
       "      <td>10461069866</td>\n",
       "    </tr>\n",
       "    <tr>\n",
       "      <th>3</th>\n",
       "      <td>10461069866</td>\n",
       "    </tr>\n",
       "    <tr>\n",
       "      <th>4</th>\n",
       "      <td>10461069866</td>\n",
       "    </tr>\n",
       "    <tr>\n",
       "      <th>5</th>\n",
       "      <td>10461069866</td>\n",
       "    </tr>\n",
       "    <tr>\n",
       "      <th>6</th>\n",
       "      <td>10461069866</td>\n",
       "    </tr>\n",
       "    <tr>\n",
       "      <th>7</th>\n",
       "      <td>10501629944</td>\n",
       "    </tr>\n",
       "    <tr>\n",
       "      <th>8</th>\n",
       "      <td>10501629944</td>\n",
       "    </tr>\n",
       "    <tr>\n",
       "      <th>9</th>\n",
       "      <td>10501629944</td>\n",
       "    </tr>\n",
       "  </tbody>\n",
       "</table>\n",
       "</div>"
      ],
      "text/plain": [
       "     Clave SIINAH\n",
       "Mes              \n",
       "1     10461069866\n",
       "10    10501629944\n",
       "11    10501629944\n",
       "12    10461069892\n",
       "2     10461069866\n",
       "3     10461069866\n",
       "4     10461069866\n",
       "5     10461069866\n",
       "6     10461069866\n",
       "7     10501629944\n",
       "8     10501629944\n",
       "9     10501629944"
      ]
     },
     "execution_count": 69,
     "metadata": {},
     "output_type": "execute_result"
    }
   ],
   "source": [
    "dfn.groupby('Mes').sum()\n"
   ]
  },
  {
   "cell_type": "code",
   "execution_count": null,
   "metadata": {},
   "outputs": [],
   "source": []
  }
 ],
 "metadata": {
  "kernelspec": {
   "display_name": "Python 3",
   "language": "python",
   "name": "python3"
  },
  "language_info": {
   "codemirror_mode": {
    "name": "ipython",
    "version": 3
   },
   "file_extension": ".py",
   "mimetype": "text/x-python",
   "name": "python",
   "nbconvert_exporter": "python",
   "pygments_lexer": "ipython3",
   "version": "3.8.2"
  }
 },
 "nbformat": 4,
 "nbformat_minor": 4
}
